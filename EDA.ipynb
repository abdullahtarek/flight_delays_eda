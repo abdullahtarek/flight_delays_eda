{
 "cells": [
  {
   "cell_type": "code",
   "execution_count": 2,
   "metadata": {},
   "outputs": [],
   "source": [
    "import pandas as pd\n",
    "import matplotlib.pyplot as plt\n",
    "import seaborn as sn\n",
    "import numpy as np"
   ]
  },
  {
   "cell_type": "code",
   "execution_count": 3,
   "metadata": {},
   "outputs": [
    {
     "data": {
      "text/html": [
       "<div>\n",
       "<style scoped>\n",
       "    .dataframe tbody tr th:only-of-type {\n",
       "        vertical-align: middle;\n",
       "    }\n",
       "\n",
       "    .dataframe tbody tr th {\n",
       "        vertical-align: top;\n",
       "    }\n",
       "\n",
       "    .dataframe thead th {\n",
       "        text-align: right;\n",
       "    }\n",
       "</style>\n",
       "<table border=\"1\" class=\"dataframe\">\n",
       "  <thead>\n",
       "    <tr style=\"text-align: right;\">\n",
       "      <th></th>\n",
       "      <th>year</th>\n",
       "      <th>month</th>\n",
       "      <th>carrier</th>\n",
       "      <th>carrier_name</th>\n",
       "      <th>airport</th>\n",
       "      <th>airport_name</th>\n",
       "      <th>arr_flights</th>\n",
       "      <th>arr_del15</th>\n",
       "      <th>carrier_ct</th>\n",
       "      <th>weather_ct</th>\n",
       "      <th>...</th>\n",
       "      <th>late_aircraft_ct</th>\n",
       "      <th>arr_cancelled</th>\n",
       "      <th>arr_diverted</th>\n",
       "      <th>arr_delay</th>\n",
       "      <th>carrier_delay</th>\n",
       "      <th>weather_delay</th>\n",
       "      <th>nas_delay</th>\n",
       "      <th>security_delay</th>\n",
       "      <th>late_aircraft_delay</th>\n",
       "      <th>Unnamed: 21</th>\n",
       "    </tr>\n",
       "  </thead>\n",
       "  <tbody>\n",
       "    <tr>\n",
       "      <th>0</th>\n",
       "      <td>2017</td>\n",
       "      <td>1</td>\n",
       "      <td>AA</td>\n",
       "      <td>American Airlines Inc.</td>\n",
       "      <td>ABQ</td>\n",
       "      <td>Albuquerque, NM: Albuquerque International Sun...</td>\n",
       "      <td>125.0</td>\n",
       "      <td>31.0</td>\n",
       "      <td>16.26</td>\n",
       "      <td>1.00</td>\n",
       "      <td>...</td>\n",
       "      <td>10.36</td>\n",
       "      <td>1.0</td>\n",
       "      <td>0.0</td>\n",
       "      <td>1378.0</td>\n",
       "      <td>758.0</td>\n",
       "      <td>21.0</td>\n",
       "      <td>95.0</td>\n",
       "      <td>0.0</td>\n",
       "      <td>504.0</td>\n",
       "      <td>NaN</td>\n",
       "    </tr>\n",
       "    <tr>\n",
       "      <th>1</th>\n",
       "      <td>2017</td>\n",
       "      <td>1</td>\n",
       "      <td>AA</td>\n",
       "      <td>American Airlines Inc.</td>\n",
       "      <td>ALB</td>\n",
       "      <td>Albany, NY: Albany International</td>\n",
       "      <td>88.0</td>\n",
       "      <td>10.0</td>\n",
       "      <td>4.52</td>\n",
       "      <td>0.00</td>\n",
       "      <td>...</td>\n",
       "      <td>4.41</td>\n",
       "      <td>1.0</td>\n",
       "      <td>0.0</td>\n",
       "      <td>402.0</td>\n",
       "      <td>171.0</td>\n",
       "      <td>0.0</td>\n",
       "      <td>17.0</td>\n",
       "      <td>0.0</td>\n",
       "      <td>214.0</td>\n",
       "      <td>NaN</td>\n",
       "    </tr>\n",
       "    <tr>\n",
       "      <th>2</th>\n",
       "      <td>2017</td>\n",
       "      <td>1</td>\n",
       "      <td>AA</td>\n",
       "      <td>American Airlines Inc.</td>\n",
       "      <td>AMA</td>\n",
       "      <td>Amarillo, TX: Rick Husband Amarillo International</td>\n",
       "      <td>24.0</td>\n",
       "      <td>6.0</td>\n",
       "      <td>1.65</td>\n",
       "      <td>0.30</td>\n",
       "      <td>...</td>\n",
       "      <td>2.79</td>\n",
       "      <td>1.0</td>\n",
       "      <td>0.0</td>\n",
       "      <td>419.0</td>\n",
       "      <td>59.0</td>\n",
       "      <td>64.0</td>\n",
       "      <td>166.0</td>\n",
       "      <td>0.0</td>\n",
       "      <td>130.0</td>\n",
       "      <td>NaN</td>\n",
       "    </tr>\n",
       "    <tr>\n",
       "      <th>3</th>\n",
       "      <td>2017</td>\n",
       "      <td>1</td>\n",
       "      <td>AA</td>\n",
       "      <td>American Airlines Inc.</td>\n",
       "      <td>ATL</td>\n",
       "      <td>Atlanta, GA: Hartsfield-Jackson Atlanta Intern...</td>\n",
       "      <td>1112.0</td>\n",
       "      <td>204.0</td>\n",
       "      <td>72.58</td>\n",
       "      <td>2.34</td>\n",
       "      <td>...</td>\n",
       "      <td>65.02</td>\n",
       "      <td>24.0</td>\n",
       "      <td>6.0</td>\n",
       "      <td>11968.0</td>\n",
       "      <td>4237.0</td>\n",
       "      <td>108.0</td>\n",
       "      <td>2693.0</td>\n",
       "      <td>159.0</td>\n",
       "      <td>4771.0</td>\n",
       "      <td>NaN</td>\n",
       "    </tr>\n",
       "    <tr>\n",
       "      <th>4</th>\n",
       "      <td>2017</td>\n",
       "      <td>1</td>\n",
       "      <td>AA</td>\n",
       "      <td>American Airlines Inc.</td>\n",
       "      <td>AUS</td>\n",
       "      <td>Austin, TX: Austin - Bergstrom International</td>\n",
       "      <td>729.0</td>\n",
       "      <td>126.0</td>\n",
       "      <td>47.75</td>\n",
       "      <td>2.86</td>\n",
       "      <td>...</td>\n",
       "      <td>38.06</td>\n",
       "      <td>2.0</td>\n",
       "      <td>0.0</td>\n",
       "      <td>6816.0</td>\n",
       "      <td>3096.0</td>\n",
       "      <td>103.0</td>\n",
       "      <td>1419.0</td>\n",
       "      <td>110.0</td>\n",
       "      <td>2088.0</td>\n",
       "      <td>NaN</td>\n",
       "    </tr>\n",
       "  </tbody>\n",
       "</table>\n",
       "<p>5 rows × 22 columns</p>\n",
       "</div>"
      ],
      "text/plain": [
       "   year   month carrier            carrier_name airport  \\\n",
       "0  2017       1      AA  American Airlines Inc.     ABQ   \n",
       "1  2017       1      AA  American Airlines Inc.     ALB   \n",
       "2  2017       1      AA  American Airlines Inc.     AMA   \n",
       "3  2017       1      AA  American Airlines Inc.     ATL   \n",
       "4  2017       1      AA  American Airlines Inc.     AUS   \n",
       "\n",
       "                                        airport_name  arr_flights  arr_del15  \\\n",
       "0  Albuquerque, NM: Albuquerque International Sun...        125.0       31.0   \n",
       "1                   Albany, NY: Albany International         88.0       10.0   \n",
       "2  Amarillo, TX: Rick Husband Amarillo International         24.0        6.0   \n",
       "3  Atlanta, GA: Hartsfield-Jackson Atlanta Intern...       1112.0      204.0   \n",
       "4       Austin, TX: Austin - Bergstrom International        729.0      126.0   \n",
       "\n",
       "   carrier_ct   weather_ct  ...  late_aircraft_ct  arr_cancelled  \\\n",
       "0       16.26         1.00  ...             10.36            1.0   \n",
       "1        4.52         0.00  ...              4.41            1.0   \n",
       "2        1.65         0.30  ...              2.79            1.0   \n",
       "3       72.58         2.34  ...             65.02           24.0   \n",
       "4       47.75         2.86  ...             38.06            2.0   \n",
       "\n",
       "   arr_diverted   arr_delay   carrier_delay  weather_delay  nas_delay  \\\n",
       "0           0.0      1378.0           758.0           21.0       95.0   \n",
       "1           0.0       402.0           171.0            0.0       17.0   \n",
       "2           0.0       419.0            59.0           64.0      166.0   \n",
       "3           6.0     11968.0          4237.0          108.0     2693.0   \n",
       "4           0.0      6816.0          3096.0          103.0     1419.0   \n",
       "\n",
       "   security_delay  late_aircraft_delay  Unnamed: 21  \n",
       "0             0.0                504.0          NaN  \n",
       "1             0.0                214.0          NaN  \n",
       "2             0.0                130.0          NaN  \n",
       "3           159.0               4771.0          NaN  \n",
       "4           110.0               2088.0          NaN  \n",
       "\n",
       "[5 rows x 22 columns]"
      ]
     },
     "execution_count": 3,
     "metadata": {},
     "output_type": "execute_result"
    }
   ],
   "source": [
    "df = pd.read_csv(\"data/airline_delay_causes.csv\")\n",
    "df.head()"
   ]
  },
  {
   "cell_type": "code",
   "execution_count": null,
   "metadata": {},
   "outputs": [],
   "source": []
  },
  {
   "cell_type": "code",
   "execution_count": 4,
   "metadata": {},
   "outputs": [
    {
     "data": {
      "text/plain": [
       "Index(['year', ' month', 'carrier', 'carrier_name', 'airport', 'airport_name',\n",
       "       'arr_flights', 'arr_del15', 'carrier_ct', ' weather_ct', 'nas_ct',\n",
       "       'security_ct', 'late_aircraft_ct', 'arr_cancelled', 'arr_diverted',\n",
       "       ' arr_delay', ' carrier_delay', 'weather_delay', 'nas_delay',\n",
       "       'security_delay', 'late_aircraft_delay', 'Unnamed: 21'],\n",
       "      dtype='object')"
      ]
     },
     "execution_count": 4,
     "metadata": {},
     "output_type": "execute_result"
    }
   ],
   "source": [
    "df.columns"
   ]
  },
  {
   "cell_type": "code",
   "execution_count": 5,
   "metadata": {},
   "outputs": [
    {
     "name": "stdout",
     "output_type": "stream",
     "text": [
      "<class 'pandas.core.frame.DataFrame'>\n",
      "RangeIndex: 63552 entries, 0 to 63551\n",
      "Data columns (total 22 columns):\n",
      "year                   63552 non-null int64\n",
      " month                 63552 non-null int64\n",
      "carrier                63552 non-null object\n",
      "carrier_name           63552 non-null object\n",
      "airport                63552 non-null object\n",
      "airport_name           63552 non-null object\n",
      "arr_flights            63468 non-null float64\n",
      "arr_del15              63290 non-null float64\n",
      "carrier_ct             63468 non-null float64\n",
      " weather_ct            63468 non-null float64\n",
      "nas_ct                 63468 non-null float64\n",
      "security_ct            63468 non-null float64\n",
      "late_aircraft_ct       63468 non-null float64\n",
      "arr_cancelled          63468 non-null float64\n",
      "arr_diverted           63468 non-null float64\n",
      " arr_delay             63468 non-null float64\n",
      " carrier_delay         63468 non-null float64\n",
      "weather_delay          63468 non-null float64\n",
      "nas_delay              63468 non-null float64\n",
      "security_delay         63468 non-null float64\n",
      "late_aircraft_delay    63468 non-null float64\n",
      "Unnamed: 21            0 non-null float64\n",
      "dtypes: float64(16), int64(2), object(4)\n",
      "memory usage: 10.7+ MB\n"
     ]
    }
   ],
   "source": [
    "df.info()"
   ]
  },
  {
   "cell_type": "code",
   "execution_count": 6,
   "metadata": {},
   "outputs": [
    {
     "data": {
      "text/plain": [
       "0"
      ]
     },
     "execution_count": 6,
     "metadata": {},
     "output_type": "execute_result"
    }
   ],
   "source": [
    "df.duplicated().sum()"
   ]
  },
  {
   "cell_type": "code",
   "execution_count": null,
   "metadata": {},
   "outputs": [],
   "source": []
  },
  {
   "cell_type": "markdown",
   "metadata": {},
   "source": [
    "# Cleaning data"
   ]
  },
  {
   "cell_type": "code",
   "execution_count": 7,
   "metadata": {},
   "outputs": [],
   "source": [
    "df = df.drop('Unnamed: 21',axis=1)"
   ]
  },
  {
   "cell_type": "markdown",
   "metadata": {},
   "source": [
    "Remove empty column"
   ]
  },
  {
   "cell_type": "code",
   "execution_count": 8,
   "metadata": {},
   "outputs": [
    {
     "data": {
      "text/plain": [
       "(63290, 21)"
      ]
     },
     "execution_count": 8,
     "metadata": {},
     "output_type": "execute_result"
    }
   ],
   "source": [
    "df = df.dropna()\n",
    "df.shape"
   ]
  },
  {
   "cell_type": "markdown",
   "metadata": {},
   "source": [
    "Since we have a very small number of Nan values we can remove the rows that have the Nan values without removing a lot from the dataset "
   ]
  },
  {
   "cell_type": "code",
   "execution_count": 9,
   "metadata": {},
   "outputs": [
    {
     "data": {
      "text/html": [
       "<div>\n",
       "<style scoped>\n",
       "    .dataframe tbody tr th:only-of-type {\n",
       "        vertical-align: middle;\n",
       "    }\n",
       "\n",
       "    .dataframe tbody tr th {\n",
       "        vertical-align: top;\n",
       "    }\n",
       "\n",
       "    .dataframe thead th {\n",
       "        text-align: right;\n",
       "    }\n",
       "</style>\n",
       "<table border=\"1\" class=\"dataframe\">\n",
       "  <thead>\n",
       "    <tr style=\"text-align: right;\">\n",
       "      <th></th>\n",
       "      <th>year</th>\n",
       "      <th>month</th>\n",
       "      <th>carrier</th>\n",
       "      <th>carrier_name</th>\n",
       "      <th>airport</th>\n",
       "      <th>airport_name</th>\n",
       "      <th>arr_flights</th>\n",
       "      <th>arr_del15</th>\n",
       "      <th>carrier_ct</th>\n",
       "      <th>weather_ct</th>\n",
       "      <th>...</th>\n",
       "      <th>security_ct</th>\n",
       "      <th>late_aircraft_ct</th>\n",
       "      <th>arr_cancelled</th>\n",
       "      <th>arr_diverted</th>\n",
       "      <th>arr_delay</th>\n",
       "      <th>carrier_delay</th>\n",
       "      <th>weather_delay</th>\n",
       "      <th>nas_delay</th>\n",
       "      <th>security_delay</th>\n",
       "      <th>late_aircraft_delay</th>\n",
       "    </tr>\n",
       "  </thead>\n",
       "  <tbody>\n",
       "    <tr>\n",
       "      <th>0</th>\n",
       "      <td>2017</td>\n",
       "      <td>1</td>\n",
       "      <td>AA</td>\n",
       "      <td>American Airlines Inc.</td>\n",
       "      <td>ABQ</td>\n",
       "      <td>Albuquerque, NM: Albuquerque International Sun...</td>\n",
       "      <td>125.0</td>\n",
       "      <td>31.0</td>\n",
       "      <td>16.26</td>\n",
       "      <td>1.00</td>\n",
       "      <td>...</td>\n",
       "      <td>0.00</td>\n",
       "      <td>10.36</td>\n",
       "      <td>1.0</td>\n",
       "      <td>0.0</td>\n",
       "      <td>1378.0</td>\n",
       "      <td>758.0</td>\n",
       "      <td>21.0</td>\n",
       "      <td>95.0</td>\n",
       "      <td>0.0</td>\n",
       "      <td>504.0</td>\n",
       "    </tr>\n",
       "    <tr>\n",
       "      <th>1</th>\n",
       "      <td>2017</td>\n",
       "      <td>1</td>\n",
       "      <td>AA</td>\n",
       "      <td>American Airlines Inc.</td>\n",
       "      <td>ALB</td>\n",
       "      <td>Albany, NY: Albany International</td>\n",
       "      <td>88.0</td>\n",
       "      <td>10.0</td>\n",
       "      <td>4.52</td>\n",
       "      <td>0.00</td>\n",
       "      <td>...</td>\n",
       "      <td>0.00</td>\n",
       "      <td>4.41</td>\n",
       "      <td>1.0</td>\n",
       "      <td>0.0</td>\n",
       "      <td>402.0</td>\n",
       "      <td>171.0</td>\n",
       "      <td>0.0</td>\n",
       "      <td>17.0</td>\n",
       "      <td>0.0</td>\n",
       "      <td>214.0</td>\n",
       "    </tr>\n",
       "    <tr>\n",
       "      <th>2</th>\n",
       "      <td>2017</td>\n",
       "      <td>1</td>\n",
       "      <td>AA</td>\n",
       "      <td>American Airlines Inc.</td>\n",
       "      <td>AMA</td>\n",
       "      <td>Amarillo, TX: Rick Husband Amarillo International</td>\n",
       "      <td>24.0</td>\n",
       "      <td>6.0</td>\n",
       "      <td>1.65</td>\n",
       "      <td>0.30</td>\n",
       "      <td>...</td>\n",
       "      <td>0.00</td>\n",
       "      <td>2.79</td>\n",
       "      <td>1.0</td>\n",
       "      <td>0.0</td>\n",
       "      <td>419.0</td>\n",
       "      <td>59.0</td>\n",
       "      <td>64.0</td>\n",
       "      <td>166.0</td>\n",
       "      <td>0.0</td>\n",
       "      <td>130.0</td>\n",
       "    </tr>\n",
       "    <tr>\n",
       "      <th>3</th>\n",
       "      <td>2017</td>\n",
       "      <td>1</td>\n",
       "      <td>AA</td>\n",
       "      <td>American Airlines Inc.</td>\n",
       "      <td>ATL</td>\n",
       "      <td>Atlanta, GA: Hartsfield-Jackson Atlanta Intern...</td>\n",
       "      <td>1112.0</td>\n",
       "      <td>204.0</td>\n",
       "      <td>72.58</td>\n",
       "      <td>2.34</td>\n",
       "      <td>...</td>\n",
       "      <td>1.98</td>\n",
       "      <td>65.02</td>\n",
       "      <td>24.0</td>\n",
       "      <td>6.0</td>\n",
       "      <td>11968.0</td>\n",
       "      <td>4237.0</td>\n",
       "      <td>108.0</td>\n",
       "      <td>2693.0</td>\n",
       "      <td>159.0</td>\n",
       "      <td>4771.0</td>\n",
       "    </tr>\n",
       "    <tr>\n",
       "      <th>4</th>\n",
       "      <td>2017</td>\n",
       "      <td>1</td>\n",
       "      <td>AA</td>\n",
       "      <td>American Airlines Inc.</td>\n",
       "      <td>AUS</td>\n",
       "      <td>Austin, TX: Austin - Bergstrom International</td>\n",
       "      <td>729.0</td>\n",
       "      <td>126.0</td>\n",
       "      <td>47.75</td>\n",
       "      <td>2.86</td>\n",
       "      <td>...</td>\n",
       "      <td>0.99</td>\n",
       "      <td>38.06</td>\n",
       "      <td>2.0</td>\n",
       "      <td>0.0</td>\n",
       "      <td>6816.0</td>\n",
       "      <td>3096.0</td>\n",
       "      <td>103.0</td>\n",
       "      <td>1419.0</td>\n",
       "      <td>110.0</td>\n",
       "      <td>2088.0</td>\n",
       "    </tr>\n",
       "  </tbody>\n",
       "</table>\n",
       "<p>5 rows × 21 columns</p>\n",
       "</div>"
      ],
      "text/plain": [
       "   year   month carrier            carrier_name airport  \\\n",
       "0  2017       1      AA  American Airlines Inc.     ABQ   \n",
       "1  2017       1      AA  American Airlines Inc.     ALB   \n",
       "2  2017       1      AA  American Airlines Inc.     AMA   \n",
       "3  2017       1      AA  American Airlines Inc.     ATL   \n",
       "4  2017       1      AA  American Airlines Inc.     AUS   \n",
       "\n",
       "                                        airport_name  arr_flights  arr_del15  \\\n",
       "0  Albuquerque, NM: Albuquerque International Sun...        125.0       31.0   \n",
       "1                   Albany, NY: Albany International         88.0       10.0   \n",
       "2  Amarillo, TX: Rick Husband Amarillo International         24.0        6.0   \n",
       "3  Atlanta, GA: Hartsfield-Jackson Atlanta Intern...       1112.0      204.0   \n",
       "4       Austin, TX: Austin - Bergstrom International        729.0      126.0   \n",
       "\n",
       "   carrier_ct   weather_ct  ...  security_ct  late_aircraft_ct  arr_cancelled  \\\n",
       "0       16.26         1.00  ...         0.00             10.36            1.0   \n",
       "1        4.52         0.00  ...         0.00              4.41            1.0   \n",
       "2        1.65         0.30  ...         0.00              2.79            1.0   \n",
       "3       72.58         2.34  ...         1.98             65.02           24.0   \n",
       "4       47.75         2.86  ...         0.99             38.06            2.0   \n",
       "\n",
       "   arr_diverted   arr_delay   carrier_delay  weather_delay  nas_delay  \\\n",
       "0           0.0      1378.0           758.0           21.0       95.0   \n",
       "1           0.0       402.0           171.0            0.0       17.0   \n",
       "2           0.0       419.0            59.0           64.0      166.0   \n",
       "3           6.0     11968.0          4237.0          108.0     2693.0   \n",
       "4           0.0      6816.0          3096.0          103.0     1419.0   \n",
       "\n",
       "   security_delay  late_aircraft_delay  \n",
       "0             0.0                504.0  \n",
       "1             0.0                214.0  \n",
       "2             0.0                130.0  \n",
       "3           159.0               4771.0  \n",
       "4           110.0               2088.0  \n",
       "\n",
       "[5 rows x 21 columns]"
      ]
     },
     "execution_count": 9,
     "metadata": {},
     "output_type": "execute_result"
    }
   ],
   "source": [
    "df.head()"
   ]
  },
  {
   "cell_type": "code",
   "execution_count": 10,
   "metadata": {},
   "outputs": [
    {
     "name": "stdout",
     "output_type": "stream",
     "text": [
      "<class 'pandas.core.frame.DataFrame'>\n",
      "Int64Index: 63290 entries, 0 to 63551\n",
      "Data columns (total 21 columns):\n",
      "year                   63290 non-null int64\n",
      " month                 63290 non-null int64\n",
      "carrier                63290 non-null object\n",
      "carrier_name           63290 non-null object\n",
      "airport                63290 non-null object\n",
      "airport_name           63290 non-null object\n",
      "arr_flights            63290 non-null float64\n",
      "arr_del15              63290 non-null float64\n",
      "carrier_ct             63290 non-null float64\n",
      " weather_ct            63290 non-null float64\n",
      "nas_ct                 63290 non-null float64\n",
      "security_ct            63290 non-null float64\n",
      "late_aircraft_ct       63290 non-null float64\n",
      "arr_cancelled          63290 non-null float64\n",
      "arr_diverted           63290 non-null float64\n",
      " arr_delay             63290 non-null float64\n",
      " carrier_delay         63290 non-null float64\n",
      "weather_delay          63290 non-null float64\n",
      "nas_delay              63290 non-null float64\n",
      "security_delay         63290 non-null float64\n",
      "late_aircraft_delay    63290 non-null float64\n",
      "dtypes: float64(15), int64(2), object(4)\n",
      "memory usage: 10.6+ MB\n"
     ]
    }
   ],
   "source": [
    "df.info()"
   ]
  },
  {
   "cell_type": "code",
   "execution_count": null,
   "metadata": {},
   "outputs": [],
   "source": []
  },
  {
   "cell_type": "markdown",
   "metadata": {},
   "source": [
    "### Wrangle city name from "
   ]
  },
  {
   "cell_type": "code",
   "execution_count": 11,
   "metadata": {},
   "outputs": [
    {
     "data": {
      "text/html": [
       "<div>\n",
       "<style scoped>\n",
       "    .dataframe tbody tr th:only-of-type {\n",
       "        vertical-align: middle;\n",
       "    }\n",
       "\n",
       "    .dataframe tbody tr th {\n",
       "        vertical-align: top;\n",
       "    }\n",
       "\n",
       "    .dataframe thead th {\n",
       "        text-align: right;\n",
       "    }\n",
       "</style>\n",
       "<table border=\"1\" class=\"dataframe\">\n",
       "  <thead>\n",
       "    <tr style=\"text-align: right;\">\n",
       "      <th></th>\n",
       "      <th>year</th>\n",
       "      <th>month</th>\n",
       "      <th>carrier</th>\n",
       "      <th>carrier_name</th>\n",
       "      <th>airport</th>\n",
       "      <th>airport_name</th>\n",
       "      <th>arr_flights</th>\n",
       "      <th>arr_del15</th>\n",
       "      <th>carrier_ct</th>\n",
       "      <th>weather_ct</th>\n",
       "      <th>...</th>\n",
       "      <th>late_aircraft_ct</th>\n",
       "      <th>arr_cancelled</th>\n",
       "      <th>arr_diverted</th>\n",
       "      <th>arr_delay</th>\n",
       "      <th>carrier_delay</th>\n",
       "      <th>weather_delay</th>\n",
       "      <th>nas_delay</th>\n",
       "      <th>security_delay</th>\n",
       "      <th>late_aircraft_delay</th>\n",
       "      <th>city</th>\n",
       "    </tr>\n",
       "  </thead>\n",
       "  <tbody>\n",
       "    <tr>\n",
       "      <th>0</th>\n",
       "      <td>2017</td>\n",
       "      <td>1</td>\n",
       "      <td>AA</td>\n",
       "      <td>American Airlines Inc.</td>\n",
       "      <td>ABQ</td>\n",
       "      <td>Albuquerque, NM: Albuquerque International Sun...</td>\n",
       "      <td>125.0</td>\n",
       "      <td>31.0</td>\n",
       "      <td>16.26</td>\n",
       "      <td>1.00</td>\n",
       "      <td>...</td>\n",
       "      <td>10.36</td>\n",
       "      <td>1.0</td>\n",
       "      <td>0.0</td>\n",
       "      <td>1378.0</td>\n",
       "      <td>758.0</td>\n",
       "      <td>21.0</td>\n",
       "      <td>95.0</td>\n",
       "      <td>0.0</td>\n",
       "      <td>504.0</td>\n",
       "      <td>NM</td>\n",
       "    </tr>\n",
       "    <tr>\n",
       "      <th>1</th>\n",
       "      <td>2017</td>\n",
       "      <td>1</td>\n",
       "      <td>AA</td>\n",
       "      <td>American Airlines Inc.</td>\n",
       "      <td>ALB</td>\n",
       "      <td>Albany, NY: Albany International</td>\n",
       "      <td>88.0</td>\n",
       "      <td>10.0</td>\n",
       "      <td>4.52</td>\n",
       "      <td>0.00</td>\n",
       "      <td>...</td>\n",
       "      <td>4.41</td>\n",
       "      <td>1.0</td>\n",
       "      <td>0.0</td>\n",
       "      <td>402.0</td>\n",
       "      <td>171.0</td>\n",
       "      <td>0.0</td>\n",
       "      <td>17.0</td>\n",
       "      <td>0.0</td>\n",
       "      <td>214.0</td>\n",
       "      <td>NY</td>\n",
       "    </tr>\n",
       "    <tr>\n",
       "      <th>2</th>\n",
       "      <td>2017</td>\n",
       "      <td>1</td>\n",
       "      <td>AA</td>\n",
       "      <td>American Airlines Inc.</td>\n",
       "      <td>AMA</td>\n",
       "      <td>Amarillo, TX: Rick Husband Amarillo International</td>\n",
       "      <td>24.0</td>\n",
       "      <td>6.0</td>\n",
       "      <td>1.65</td>\n",
       "      <td>0.30</td>\n",
       "      <td>...</td>\n",
       "      <td>2.79</td>\n",
       "      <td>1.0</td>\n",
       "      <td>0.0</td>\n",
       "      <td>419.0</td>\n",
       "      <td>59.0</td>\n",
       "      <td>64.0</td>\n",
       "      <td>166.0</td>\n",
       "      <td>0.0</td>\n",
       "      <td>130.0</td>\n",
       "      <td>TX</td>\n",
       "    </tr>\n",
       "    <tr>\n",
       "      <th>3</th>\n",
       "      <td>2017</td>\n",
       "      <td>1</td>\n",
       "      <td>AA</td>\n",
       "      <td>American Airlines Inc.</td>\n",
       "      <td>ATL</td>\n",
       "      <td>Atlanta, GA: Hartsfield-Jackson Atlanta Intern...</td>\n",
       "      <td>1112.0</td>\n",
       "      <td>204.0</td>\n",
       "      <td>72.58</td>\n",
       "      <td>2.34</td>\n",
       "      <td>...</td>\n",
       "      <td>65.02</td>\n",
       "      <td>24.0</td>\n",
       "      <td>6.0</td>\n",
       "      <td>11968.0</td>\n",
       "      <td>4237.0</td>\n",
       "      <td>108.0</td>\n",
       "      <td>2693.0</td>\n",
       "      <td>159.0</td>\n",
       "      <td>4771.0</td>\n",
       "      <td>GA</td>\n",
       "    </tr>\n",
       "    <tr>\n",
       "      <th>4</th>\n",
       "      <td>2017</td>\n",
       "      <td>1</td>\n",
       "      <td>AA</td>\n",
       "      <td>American Airlines Inc.</td>\n",
       "      <td>AUS</td>\n",
       "      <td>Austin, TX: Austin - Bergstrom International</td>\n",
       "      <td>729.0</td>\n",
       "      <td>126.0</td>\n",
       "      <td>47.75</td>\n",
       "      <td>2.86</td>\n",
       "      <td>...</td>\n",
       "      <td>38.06</td>\n",
       "      <td>2.0</td>\n",
       "      <td>0.0</td>\n",
       "      <td>6816.0</td>\n",
       "      <td>3096.0</td>\n",
       "      <td>103.0</td>\n",
       "      <td>1419.0</td>\n",
       "      <td>110.0</td>\n",
       "      <td>2088.0</td>\n",
       "      <td>TX</td>\n",
       "    </tr>\n",
       "  </tbody>\n",
       "</table>\n",
       "<p>5 rows × 22 columns</p>\n",
       "</div>"
      ],
      "text/plain": [
       "   year   month carrier            carrier_name airport  \\\n",
       "0  2017       1      AA  American Airlines Inc.     ABQ   \n",
       "1  2017       1      AA  American Airlines Inc.     ALB   \n",
       "2  2017       1      AA  American Airlines Inc.     AMA   \n",
       "3  2017       1      AA  American Airlines Inc.     ATL   \n",
       "4  2017       1      AA  American Airlines Inc.     AUS   \n",
       "\n",
       "                                        airport_name  arr_flights  arr_del15  \\\n",
       "0  Albuquerque, NM: Albuquerque International Sun...        125.0       31.0   \n",
       "1                   Albany, NY: Albany International         88.0       10.0   \n",
       "2  Amarillo, TX: Rick Husband Amarillo International         24.0        6.0   \n",
       "3  Atlanta, GA: Hartsfield-Jackson Atlanta Intern...       1112.0      204.0   \n",
       "4       Austin, TX: Austin - Bergstrom International        729.0      126.0   \n",
       "\n",
       "   carrier_ct   weather_ct  ...  late_aircraft_ct  arr_cancelled  \\\n",
       "0       16.26         1.00  ...             10.36            1.0   \n",
       "1        4.52         0.00  ...              4.41            1.0   \n",
       "2        1.65         0.30  ...              2.79            1.0   \n",
       "3       72.58         2.34  ...             65.02           24.0   \n",
       "4       47.75         2.86  ...             38.06            2.0   \n",
       "\n",
       "   arr_diverted   arr_delay   carrier_delay  weather_delay  nas_delay  \\\n",
       "0           0.0      1378.0           758.0           21.0       95.0   \n",
       "1           0.0       402.0           171.0            0.0       17.0   \n",
       "2           0.0       419.0            59.0           64.0      166.0   \n",
       "3           6.0     11968.0          4237.0          108.0     2693.0   \n",
       "4           0.0      6816.0          3096.0          103.0     1419.0   \n",
       "\n",
       "   security_delay  late_aircraft_delay  city  \n",
       "0             0.0                504.0    NM  \n",
       "1             0.0                214.0    NY  \n",
       "2             0.0                130.0    TX  \n",
       "3           159.0               4771.0    GA  \n",
       "4           110.0               2088.0    TX  \n",
       "\n",
       "[5 rows x 22 columns]"
      ]
     },
     "execution_count": 11,
     "metadata": {},
     "output_type": "execute_result"
    }
   ],
   "source": [
    "df['city'] = df['airport_name'].str.split(',').str[-1].str.split(':').str[0]\n",
    "df.head()"
   ]
  },
  {
   "cell_type": "markdown",
   "metadata": {},
   "source": [
    "### Exclude 2020 Data ( since flights were canceled for a couple of months this year due to covid)"
   ]
  },
  {
   "cell_type": "code",
   "execution_count": 12,
   "metadata": {},
   "outputs": [
    {
     "name": "stderr",
     "output_type": "stream",
     "text": [
      "C:\\Users\\Abdullah\\Anaconda3\\envs\\tensorflowEnv\\lib\\site-packages\\pandas\\core\\ops\\__init__.py:1115: FutureWarning: elementwise comparison failed; returning scalar instead, but in the future will perform elementwise comparison\n",
      "  result = method(y)\n"
     ]
    }
   ],
   "source": [
    "df = df[df['year']!='2020']"
   ]
  },
  {
   "cell_type": "markdown",
   "metadata": {},
   "source": [
    "# Exploration"
   ]
  },
  {
   "cell_type": "code",
   "execution_count": null,
   "metadata": {},
   "outputs": [],
   "source": []
  },
  {
   "cell_type": "markdown",
   "metadata": {},
   "source": [
    "## Univariate exploration"
   ]
  },
  {
   "cell_type": "code",
   "execution_count": null,
   "metadata": {},
   "outputs": [],
   "source": []
  },
  {
   "cell_type": "markdown",
   "metadata": {},
   "source": [
    "### Number of airports in the dataset"
   ]
  },
  {
   "cell_type": "code",
   "execution_count": 15,
   "metadata": {},
   "outputs": [
    {
     "data": {
      "text/plain": [
       "array(['Albuquerque, NM: Albuquerque International Sunport',\n",
       "       'Albany, NY: Albany International',\n",
       "       'Amarillo, TX: Rick Husband Amarillo International',\n",
       "       'Atlanta, GA: Hartsfield-Jackson Atlanta International',\n",
       "       'Austin, TX: Austin - Bergstrom International',\n",
       "       'Hartford, CT: Bradley International',\n",
       "       'Nashville, TN: Nashville International',\n",
       "       'Boise, ID: Boise Air Terminal', 'Boston, MA: Logan International',\n",
       "       'Buffalo, NY: Buffalo Niagara International',\n",
       "       'Baltimore, MD: Baltimore/Washington International Thurgood Marshall',\n",
       "       'Charleston, SC: Charleston AFB/International',\n",
       "       'Cleveland, OH: Cleveland-Hopkins International',\n",
       "       'Charlotte, NC: Charlotte Douglas International',\n",
       "       'Columbus, OH: John Glenn Columbus International',\n",
       "       'Colorado Springs, CO: City of Colorado Springs Municipal',\n",
       "       'Corpus Christi, TX: Corpus Christi International',\n",
       "       'Dayton, OH: James M Cox/Dayton International',\n",
       "       'Washington, DC: Ronald Reagan Washington National',\n",
       "       'Denver, CO: Denver International',\n",
       "       'Dallas/Fort Worth, TX: Dallas/Fort Worth International',\n",
       "       'Des Moines, IA: Des Moines International',\n",
       "       'Detroit, MI: Detroit Metro Wayne County',\n",
       "       'Eagle, CO: Eagle County Regional',\n",
       "       'El Paso, TX: El Paso International',\n",
       "       'Newark, NJ: Newark Liberty International',\n",
       "       'Fresno, CA: Fresno Yosemite International',\n",
       "       'Fort Lauderdale, FL: Fort Lauderdale-Hollywood International',\n",
       "       'Spokane, WA: Spokane International',\n",
       "       'Gunnison, CO: Gunnison-Crested Butte Regional',\n",
       "       'Hayden, CO: Yampa Valley',\n",
       "       'Honolulu, HI: Daniel K Inouye International',\n",
       "       'Washington, DC: Washington Dulles International',\n",
       "       'Houston, TX: George Bush Intercontinental/Houston',\n",
       "       'Wichita, KS: Wichita Dwight D Eisenhower National',\n",
       "       'Wilmington, NC: Wilmington International',\n",
       "       'Indianapolis, IN: Indianapolis International',\n",
       "       'Jackson, WY: Jackson Hole',\n",
       "       'Jacksonville, FL: Jacksonville International',\n",
       "       'New York, NY: John F. Kennedy International',\n",
       "       'Kona, HI: Ellison Onizuka Kona International at Keahole',\n",
       "       'Las Vegas, NV: McCarran International',\n",
       "       'Los Angeles, CA: Los Angeles International',\n",
       "       'Lubbock, TX: Lubbock Preston Smith International',\n",
       "       'New York, NY: LaGuardia', 'Lihue, HI: Lihue Airport',\n",
       "       'Kansas City, MO: Kansas City International',\n",
       "       'Orlando, FL: Orlando International',\n",
       "       'Harrisburg, PA: Harrisburg International',\n",
       "       'Memphis, TN: Memphis International',\n",
       "       'Mission/McAllen/Edinburg, TX: McAllen Miller International',\n",
       "       'Miami, FL: Miami International',\n",
       "       'Milwaukee, WI: General Mitchell International',\n",
       "       'Minneapolis, MN: Minneapolis-St Paul International',\n",
       "       'New Orleans, LA: Louis Armstrong New Orleans International',\n",
       "       'Montrose/Delta, CO: Montrose Regional',\n",
       "       'Oakland, CA: Metropolitan Oakland International',\n",
       "       'Kahului, HI: Kahului Airport',\n",
       "       'Oklahoma City, OK: Will Rogers World',\n",
       "       'Omaha, NE: Eppley Airfield', 'Ontario, CA: Ontario International',\n",
       "       \"Chicago, IL: Chicago O'Hare International\",\n",
       "       'Norfolk, VA: Norfolk International',\n",
       "       'West Palm Beach/Palm Beach, FL: Palm Beach International',\n",
       "       'Portland, OR: Portland International',\n",
       "       'Philadelphia, PA: Philadelphia International',\n",
       "       'Phoenix, AZ: Phoenix Sky Harbor International',\n",
       "       'Pittsburgh, PA: Pittsburgh International',\n",
       "       'Palm Springs, CA: Palm Springs International',\n",
       "       'Providence, RI: Theodore Francis Green State',\n",
       "       'Portland, ME: Portland International Jetport',\n",
       "       'Raleigh/Durham, NC: Raleigh-Durham International',\n",
       "       'Richmond, VA: Richmond International',\n",
       "       'Reno, NV: Reno/Tahoe International',\n",
       "       'Rochester, NY: Greater Rochester International',\n",
       "       'Fort Myers, FL: Southwest Florida International',\n",
       "       'San Diego, CA: San Diego International',\n",
       "       'San Antonio, TX: San Antonio International',\n",
       "       'Louisville, KY: Louisville Muhammad Ali International',\n",
       "       'Seattle, WA: Seattle/Tacoma International',\n",
       "       'San Francisco, CA: San Francisco International',\n",
       "       'San Jose, CA: Norman Y. Mineta San Jose International',\n",
       "       'San Juan, PR: Luis Munoz Marin International',\n",
       "       'Salt Lake City, UT: Salt Lake City International',\n",
       "       'Sacramento, CA: Sacramento International',\n",
       "       'Santa Ana, CA: John Wayne Airport-Orange County',\n",
       "       'St. Louis, MO: St Louis Lambert International',\n",
       "       'Charlotte Amalie, VI: Cyril E King',\n",
       "       'Christiansted, VI: Henry E. Rohlsen',\n",
       "       'Syracuse, NY: Syracuse Hancock International',\n",
       "       'Tampa, FL: Tampa International', 'Tulsa, OK: Tulsa International',\n",
       "       'Tucson, AZ: Tucson International', 'Adak Island, AK: Adak',\n",
       "       'Kodiak, AK: Kodiak Airport',\n",
       "       'Anchorage, AK: Ted Stevens Anchorage International',\n",
       "       'Bethel, AK: Bethel Airport',\n",
       "       'Bellingham, WA: Bellingham International',\n",
       "       'Barrow, AK: Wiley Post/Will Rogers Memorial',\n",
       "       'Burbank, CA: Bob Hope', 'Cordova, AK: Merle K Mudhole Smith',\n",
       "       'Fairbanks, AK: Fairbanks International',\n",
       "       'Juneau, AK: Juneau International',\n",
       "       'Ketchikan, AK: Ketchikan International', 'Nome, AK: Nome Airport',\n",
       "       'Kotzebue, AK: Ralph Wien Memorial',\n",
       "       'Petersburg, AK: Petersburg James A Johnson',\n",
       "       'Deadhorse, AK: Deadhorse Airport',\n",
       "       'Sitka, AK: Sitka Rocky Gutierrez',\n",
       "       'Wrangell, AK: Wrangell Airport', 'Yakutat, AK: Yakutat Airport',\n",
       "       'Aguadilla, PR: Rafael Hernandez',\n",
       "       'Burlington, VT: Burlington International',\n",
       "       'Daytona Beach, FL: Daytona Beach International',\n",
       "       'Houston, TX: William P Hobby',\n",
       "       'White Plains, NY: Westchester County',\n",
       "       'Long Beach, CA: Long Beach Airport',\n",
       "       'Worcester, MA: Worcester Regional', 'Ponce, PR: Mercedita',\n",
       "       'Savannah, GA: Savannah/Hilton Head International',\n",
       "       'Sarasota/Bradenton, FL: Sarasota/Bradenton International',\n",
       "       'Newburgh/Poughkeepsie, NY: New York Stewart International',\n",
       "       'Allentown/Bethlehem/Easton, PA: Lehigh Valley International',\n",
       "       'Augusta, GA: Augusta Regional at Bush Field',\n",
       "       'Appleton, WI: Appleton International',\n",
       "       'Asheville, NC: Asheville Regional',\n",
       "       'Scranton/Wilkes-Barre, PA: Wilkes Barre Scranton International',\n",
       "       'Birmingham, AL: Birmingham-Shuttlesworth International',\n",
       "       'Billings, MT: Billings Logan International',\n",
       "       'Bismarck/Mandan, ND: Bismarck Municipal',\n",
       "       'Bloomington/Normal, IL: Central Il Regional Airport at Bloomington',\n",
       "       'Baton Rouge, LA: Baton Rouge Metropolitan/Ryan Field',\n",
       "       'Bozeman, MT: Bozeman Yellowstone International',\n",
       "       'Columbia, SC: Columbia Metropolitan',\n",
       "       'Akron, OH: Akron-Canton Regional',\n",
       "       'Chattanooga, TN: Lovell Field',\n",
       "       'Charlottesville, VA: Charlottesville Albemarle',\n",
       "       'Cedar Rapids/Iowa City, IA: The Eastern Iowa',\n",
       "       'Charleston/Dunbar, WV: Yeager',\n",
       "       'Cincinnati, OH: Cincinnati/Northern Kentucky International',\n",
       "       'Dallas, TX: Dallas Love Field',\n",
       "       'Panama City, FL: Northwest Florida Beaches International',\n",
       "       'Evansville, IN: Evansville Regional',\n",
       "       'Key West, FL: Key West International',\n",
       "       'Fargo, ND: Hector International',\n",
       "       'Fayetteville, NC: Fayetteville Regional/Grannis Field',\n",
       "       'Kalispell, MT: Glacier Park International',\n",
       "       'Flint, MI: Bishop International',\n",
       "       'Sioux Falls, SD: Joe Foss Field',\n",
       "       'Gainesville, FL: Gainesville Regional',\n",
       "       'Gulfport/Biloxi, MS: Gulfport-Biloxi International',\n",
       "       'Green Bay, WI: Green Bay Austin Straubel International',\n",
       "       'Grand Rapids, MI: Gerald R. Ford International',\n",
       "       'Greensboro/High Point, NC: Piedmont Triad International',\n",
       "       'Greer, SC: Greenville-Spartanburg International',\n",
       "       'Huntsville, AL: Huntsville International-Carl T Jones Field',\n",
       "       'Jackson/Vicksburg, MS: Jackson Medgar Wiley Evers International',\n",
       "       'Lexington, KY: Blue Grass',\n",
       "       'Lafayette, LA: Lafayette Regional Paul Fournet Field',\n",
       "       'Little Rock, AR: Bill and Hillary Clinton Nat Adams Field',\n",
       "       'Chicago, IL: Chicago Midway International',\n",
       "       'Manchester, NH: Manchester-Boston Regional',\n",
       "       'Melbourne, FL: Melbourne International',\n",
       "       'Mobile, AL: Mobile Regional',\n",
       "       'Madison, WI: Dane County Regional-Truax Field',\n",
       "       'Missoula, MT: Missoula International',\n",
       "       'Myrtle Beach, SC: Myrtle Beach International',\n",
       "       'Jacksonville/Camp Lejeune, NC: Albert J Ellis',\n",
       "       'Newport News/Williamsburg, VA: Newport News/Williamsburg International',\n",
       "       'Pensacola, FL: Pensacola International',\n",
       "       'Roanoke, VA: Roanoke Blacksburg Regional Woodrum Field',\n",
       "       'Springfield, MO: Springfield-Branson National',\n",
       "       'Shreveport, LA: Shreveport Regional',\n",
       "       'Tallahassee, FL: Tallahassee International',\n",
       "       'Bristol/Johnson City/Kingsport, TN: Tri Cities',\n",
       "       'Traverse City, MI: Cherry Capital', 'Knoxville, TN: McGhee Tyson',\n",
       "       'Valparaiso, FL: Eglin AFB Destin Fort Walton Beach',\n",
       "       'Fayetteville, AR: Northwest Arkansas Regional',\n",
       "       'Abilene, TX: Abilene Regional',\n",
       "       'Albany, GA: Southwest Georgia Regional',\n",
       "       'Waco, TX: Waco Regional',\n",
       "       'Alexandria, LA: Alexandria International',\n",
       "       'Kalamazoo, MI: Kalamazoo/Battle Creek International',\n",
       "       'Beaumont/Port Arthur, TX: Jack Brooks Regional',\n",
       "       'Brunswick, GA: Brunswick Golden Isles',\n",
       "       'Brownsville, TX: Brownsville South Padre Island International',\n",
       "       'College Station/Bryan, TX: Easterwood Field',\n",
       "       'Columbus, GA: Columbus Airport', 'Mosinee, WI: Central Wisconsin',\n",
       "       'Dothan, AL: Dothan Regional',\n",
       "       'Durango, CO: Durango La Plata County',\n",
       "       'Elmira/Corning, NY: Elmira/Corning Regional',\n",
       "       'Erie, PA: Erie International/Tom Ridge Field',\n",
       "       'New Bern/Morehead/Beaufort, NC: Coastal Carolina Regional',\n",
       "       'Fort Smith, AR: Fort Smith Regional',\n",
       "       'Fort Wayne, IN: Fort Wayne International',\n",
       "       'Garden City, KS: Garden City Regional',\n",
       "       'Longview, TX: East Texas Regional',\n",
       "       'Grand Island, NE: Central Nebraska Regional',\n",
       "       'Killeen, TX: Robert Gray AAF',\n",
       "       'Columbus, MS: Golden Triangle Regional',\n",
       "       'Hobbs, NM: Lea County Regional',\n",
       "       'Harlingen/San Benito, TX: Valley International',\n",
       "       'Lansing, MI: Capital Region International',\n",
       "       'Lawton/Fort Sill, OK: Lawton-Fort Sill Regional',\n",
       "       'Lake Charles, LA: Lake Charles Regional',\n",
       "       'Lincoln, NE: Lincoln Airport', 'Laredo, TX: Laredo International',\n",
       "       'Midland/Odessa, TX: Midland International Air and Space Port',\n",
       "       'Meridian, MS: Key Field', 'Montgomery, AL: Montgomery Regional',\n",
       "       'Moline, IL: Quad City International',\n",
       "       'Monroe, LA: Monroe Regional',\n",
       "       'Peoria, IL: General Downing - Peoria International',\n",
       "       'Hattiesburg/Laurel, MS: Hattiesburg-Laurel Regional',\n",
       "       'Roswell, NM: Roswell International Air Center',\n",
       "       'Rochester, MN: Rochester International',\n",
       "       'Santa Fe, NM: Santa Fe Municipal',\n",
       "       'South Bend, IN: South Bend International',\n",
       "       'State College, PA: University Park',\n",
       "       'San Angelo, TX: San Angelo Regional/Mathis Field',\n",
       "       'Springfield, IL: Abraham Lincoln Capital',\n",
       "       'Wichita Falls, TX: Sheppard AFB/Wichita Falls Municipal',\n",
       "       'Texarkana, AR: Texarkana Regional-Webb Field',\n",
       "       'Tyler, TX: Tyler Pounds Regional',\n",
       "       'Valdosta, GA: Valdosta Regional',\n",
       "       'Punta Gorda, FL: Punta Gorda Airport',\n",
       "       'Trenton, NJ: Trenton Mercer', 'Hilo, HI: Hilo International',\n",
       "       'Pago Pago, TT: Pago Pago International',\n",
       "       'Atlantic City, NJ: Atlantic City International',\n",
       "       'Niagara Falls, NY: Niagara Falls International',\n",
       "       'Latrobe, PA: Arnold Palmer Regional',\n",
       "       'Plattsburgh, NY: Plattsburgh International',\n",
       "       'Aberdeen, SD: Aberdeen Regional',\n",
       "       'Arcata/Eureka, CA: California Redwood Coast Humboldt County',\n",
       "       'Alpena, MI: Alpena County Regional',\n",
       "       'Aspen, CO: Aspen Pitkin County Sardy Field',\n",
       "       'Bakersfield, CA: Meadows Field',\n",
       "       'Binghamton, NY: Greater Binghamton/Edwin A. Link Field',\n",
       "       'Bemidji, MN: Bemidji Regional',\n",
       "       'Brainerd, MN: Brainerd Lakes Regional', 'Butte, MT: Bert Mooney',\n",
       "       'Cedar City, UT: Cedar City Regional',\n",
       "       'Sault Ste. Marie, MI: Chippewa County International',\n",
       "       'Hancock/Houghton, MI: Houghton County Memorial',\n",
       "       'Cody, WY: Yellowstone Regional',\n",
       "       'Casper, WY: Casper/Natrona County International',\n",
       "       'Duluth, MN: Duluth International',\n",
       "       'Devils Lake, ND: Devils Lake Regional',\n",
       "       'Eau Claire, WI: Chippewa Valley Regional',\n",
       "       'Elko, NV: Elko Regional', 'Escanaba, MI: Delta County',\n",
       "       'Eugene, OR: Mahlon Sweet Field',\n",
       "       'Flagstaff, AZ: Flagstaff Pulliam',\n",
       "       'Gillette, WY: Gillette Campbell County',\n",
       "       'Grand Forks, ND: Grand Forks International',\n",
       "       'Grand Junction, CO: Grand Junction Regional',\n",
       "       'Great Falls, MT: Great Falls International',\n",
       "       'Hibbing, MN: Range Regional', 'Helena, MT: Helena Regional',\n",
       "       'Hays, KS: Hays Regional', 'Idaho Falls, ID: Idaho Falls Regional',\n",
       "       'Iron Mountain/Kingsfd, MI: Ford',\n",
       "       'International Falls, MN: Falls International Einarson Field',\n",
       "       'Williston, ND: Sloulin Field International',\n",
       "       'Ithaca/Cortland, NY: Ithaca Tompkins Regional',\n",
       "       'Jamestown, ND: Jamestown Regional',\n",
       "       'Laramie, WY: Laramie Regional',\n",
       "       'La Crosse, WI: La Crosse Regional',\n",
       "       'Lewiston, ID: Lewiston Nez Perce County',\n",
       "       'Saginaw/Bay City/Midland, MI: MBS International',\n",
       "       'Medford, OR: Rogue Valley International - Medford',\n",
       "       'Muskegon, MI: Muskegon County',\n",
       "       'Mammoth Lakes, CA: Mammoth Lakes Airport',\n",
       "       'Minot, ND: Minot International',\n",
       "       'Marquette, MI: Sawyer International',\n",
       "       'Monterey, CA: Monterey Regional',\n",
       "       'North Bend/Coos Bay, OR: Southwest Oregon Regional',\n",
       "       'Paducah, KY: Barkley Regional',\n",
       "       'Pocatello, ID: Pocatello Regional',\n",
       "       'Pellston, MI: Pellston Regional Airport of Emmet County',\n",
       "       'Pasco/Kennewick/Richland, WA: Tri Cities',\n",
       "       'Rapid City, SD: Rapid City Regional',\n",
       "       'Redding, CA: Redding Municipal',\n",
       "       'Bend/Redmond, OR: Roberts Field',\n",
       "       'Rhinelander, WI: Rhinelander/Oneida County',\n",
       "       'Rock Springs, WY: Southwest Wyoming Regional',\n",
       "       'Santa Barbara, CA: Santa Barbara Municipal',\n",
       "       'San Luis Obispo, CA: San Luis County Regional',\n",
       "       'St. George, UT: St George Regional',\n",
       "       'Sun Valley/Hailey/Ketchum, ID: Friedman Memorial',\n",
       "       'Twin Falls, ID: Joslin Field - Magic Valley Regional',\n",
       "       'Yuma, AZ: Yuma MCAS/Yuma International',\n",
       "       'Guam, TT: Guam International', 'Islip, NY: Long Island MacArthur',\n",
       "       'Bullhead City, AZ: Laughlin/Bullhead International',\n",
       "       'Santa Rosa, CA: Charles M. Schulz - Sonoma County',\n",
       "       'Bangor, ME: Bangor International',\n",
       "       'Columbia, MO: Columbia Regional',\n",
       "       'St. Augustine, FL: Northeast Florida Regional',\n",
       "       'Waterloo, IA: Waterloo Regional',\n",
       "       'Manhattan/Ft. Riley, KS: Manhattan Regional',\n",
       "       'Toledo, OH: Toledo Express', 'Nantucket, MA: Nantucket Memorial',\n",
       "       \"Martha's Vineyard, MA: Martha's Vineyard Airport\",\n",
       "       'Sioux City, IA: Sioux Gateway Brig Gen Bud Day Field',\n",
       "       'West Yellowstone, MT: Yellowstone',\n",
       "       'King Salmon, AK: King Salmon Airport',\n",
       "       'Dillingham, AK: Dillingham Airport',\n",
       "       'Gustavus, AK: Gustavus Airport',\n",
       "       'Hyannis, MA: Barnstable Municipal-Boardman/Polando Field',\n",
       "       'Joplin, MO: Joplin Regional',\n",
       "       'Stillwater, OK: Stillwater Regional',\n",
       "       'Watertown, NY: Watertown International',\n",
       "       'New Haven, CT: Tweed New Haven',\n",
       "       'Lynchburg, VA: Lynchburg Regional/Preston Glenn Field',\n",
       "       'Scottsbluff, NE: Western Neb. Regional/William B. Heilig Field',\n",
       "       'Cape Girardeau, MO: Cape Girardeau Regional',\n",
       "       'Clarksburg/Fairmont, WV: North Central West Virginia',\n",
       "       'Moab, UT: Canyonlands Field',\n",
       "       'Cheyenne, WY: Cheyenne Regional/Jerry Olson Field',\n",
       "       'Kearney, NE: Kearney Regional',\n",
       "       'North Platte, NE: North Platte Regional Airport Lee Bird Field',\n",
       "       'Liberal, KS: Liberal Mid-America Regional',\n",
       "       'Lewisburg, WV: Greenbrier Valley',\n",
       "       'Prescott, AZ: Prescott Regional Ernest A Love Field',\n",
       "       'Pueblo, CO: Pueblo Memorial',\n",
       "       'Staunton, VA: Shenandoah Valley Regional',\n",
       "       'Salina, KS: Salina Regional',\n",
       "       'Quincy, IL: Quincy Regional-Baldwin Field',\n",
       "       'Vernal, UT: Vernal Regional',\n",
       "       'Saipan, TT: Francisco C. Ada Saipan International',\n",
       "       'Hilton Head, SC: Hilton Head Airport',\n",
       "       'Portsmouth, NH: Portsmouth International at Pease',\n",
       "       'Phoenix, AZ: Phoenix - Mesa Gateway',\n",
       "       'Belleville, IL: Scott AFB/MidAmerica',\n",
       "       'Hagerstown, MD: Hagerstown Regional-Richard A. Henson Field',\n",
       "       'Ashland, WV: Tri-State/Milton J. Ferguson Field',\n",
       "       'Columbus, OH: Rickenbacker International',\n",
       "       'Ogden, UT: Ogden-Hinckley',\n",
       "       'Ogdensburg, NY: Ogdensburg International',\n",
       "       'Owensboro, KY: Owensboro Daviess County Regional',\n",
       "       'St. Petersburg, FL: St Pete Clearwater International',\n",
       "       'Provo, UT: Provo Municipal',\n",
       "       'Rockford, IL: Chicago/Rockford International',\n",
       "       'Stockton, CA: Stockton Metropolitan',\n",
       "       'Sanford, FL: Orlando Sanford International',\n",
       "       'Santa Maria, CA: Santa Maria Public/Capt. G. Allan Hancock Field',\n",
       "       'St. Cloud, MN: St. Cloud Regional',\n",
       "       'Concord, NC: Concord Padgett Regional',\n",
       "       'Champaign/Urbana, IL: University of Illinois/Willard',\n",
       "       'Dubuque, IA: Dubuque Regional',\n",
       "       'Del Rio, TX: Del Rio International',\n",
       "       'Everett, WA: Snohomish County', 'Branson, MO: Branson Airport',\n",
       "       'Watertown, SD: Watertown Regional', 'Pierre, SD: Pierre Regional',\n",
       "       'Mobile, AL: Mobile Downtown', 'Greenville, NC: Pitt Greenville',\n",
       "       'Williston, ND: Williston Basin International',\n",
       "       'Riverton/Lander, WY: Riverton Regional',\n",
       "       'Sheridan, WY: Sheridan County',\n",
       "       'Dodge City, KS: Dodge City Regional',\n",
       "       'Decatur, IL: Decatur Airport',\n",
       "       'Dickinson, ND: Dickinson - Theodore Roosevelt Regional',\n",
       "       'Cold Bay, AK: Cold Bay Airport',\n",
       "       'Fort Collins/Loveland, CO: Northern Colorado Regional',\n",
       "       'Youngstown/Warren, OH: Youngstown-Warren Regional',\n",
       "       'Florence, SC: Florence Regional'], dtype=object)"
      ]
     },
     "execution_count": 15,
     "metadata": {},
     "output_type": "execute_result"
    }
   ],
   "source": [
    "df.airport_name.unique()"
   ]
  },
  {
   "cell_type": "code",
   "execution_count": 16,
   "metadata": {},
   "outputs": [
    {
     "data": {
      "text/plain": [
       "371"
      ]
     },
     "execution_count": 16,
     "metadata": {},
     "output_type": "execute_result"
    }
   ],
   "source": [
    "len(df.airport_name.unique())"
   ]
  },
  {
   "cell_type": "code",
   "execution_count": 17,
   "metadata": {},
   "outputs": [
    {
     "data": {
      "text/plain": [
       "371"
      ]
     },
     "execution_count": 17,
     "metadata": {},
     "output_type": "execute_result"
    }
   ],
   "source": [
    "len(df.airport.unique())"
   ]
  },
  {
   "cell_type": "markdown",
   "metadata": {},
   "source": [
    "There are 371 unqiue airports in this dataset"
   ]
  },
  {
   "cell_type": "code",
   "execution_count": null,
   "metadata": {},
   "outputs": [],
   "source": []
  },
  {
   "cell_type": "markdown",
   "metadata": {},
   "source": [
    "### Number of air flights per month per airport and carier"
   ]
  },
  {
   "cell_type": "code",
   "execution_count": 18,
   "metadata": {},
   "outputs": [
    {
     "data": {
      "image/png": "[encoded data removed]",
      "text/plain": [
       "<Figure size 432x288 with 1 Axes>"
      ]
     },
     "metadata": {},
     "output_type": "display_data"
    }
   ],
   "source": [
    "df.arr_flights.hist()\n",
    "plt.xlabel('Number of flights per month')\n",
    "plt.show()"
   ]
  },
  {
   "cell_type": "code",
   "execution_count": 19,
   "metadata": {},
   "outputs": [
    {
     "data": {
      "text/plain": [
       "count    63290.000000\n",
       "mean       361.126371\n",
       "std       1001.393130\n",
       "min          1.000000\n",
       "25%         48.000000\n",
       "50%         94.000000\n",
       "75%        244.000000\n",
       "max      21931.000000\n",
       "Name: arr_flights, dtype: float64"
      ]
     },
     "execution_count": 19,
     "metadata": {},
     "output_type": "execute_result"
    }
   ],
   "source": [
    "df.arr_flights.describe()"
   ]
  },
  {
   "cell_type": "markdown",
   "metadata": {},
   "source": [
    "The Number of flights is right skewed where most of the data lies bellow 244. "
   ]
  },
  {
   "cell_type": "code",
   "execution_count": null,
   "metadata": {},
   "outputs": [],
   "source": []
  },
  {
   "cell_type": "code",
   "execution_count": 22,
   "metadata": {},
   "outputs": [
    {
     "data": {
      "image/png": "[encoded data removed]",
      "text/plain": [
       "<Figure size 432x288 with 1 Axes>"
      ]
     },
     "metadata": {},
     "output_type": "display_data"
    }
   ],
   "source": [
    "df.arr_flights.hist(bins=list(range(0,244,10)))\n",
    "plt.xticks(ticks=list(range(0,244,10)))\n",
    "plt.xlim(0,244)\n",
    "plt.xlabel('Number of flights per month')\n",
    "plt.show()"
   ]
  },
  {
   "cell_type": "code",
   "execution_count": null,
   "metadata": {},
   "outputs": [],
   "source": []
  },
  {
   "cell_type": "markdown",
   "metadata": {},
   "source": [
    "# Weather cancelations"
   ]
  },
  {
   "cell_type": "code",
   "execution_count": 23,
   "metadata": {},
   "outputs": [
    {
     "data": {
      "image/png": "[encoded data removed]",
      "text/plain": [
       "<Figure size 432x288 with 1 Axes>"
      ]
     },
     "metadata": {},
     "output_type": "display_data"
    }
   ],
   "source": [
    "df[' weather_ct'].hist(bins=list(range(0,25,1)))\n",
    "plt.xlabel('Number of flights canceled per month ')\n",
    "plt.xticks(ticks=list(range(0,25,1)))\n",
    "plt.show()"
   ]
  },
  {
   "cell_type": "code",
   "execution_count": 24,
   "metadata": {},
   "outputs": [
    {
     "data": {
      "text/plain": [
       "count    63290.000000\n",
       "mean         2.080729\n",
       "std          6.556104\n",
       "min          0.000000\n",
       "25%          0.000000\n",
       "50%          0.350000\n",
       "75%          1.750000\n",
       "max        188.680000\n",
       "Name:  weather_ct, dtype: float64"
      ]
     },
     "execution_count": 24,
     "metadata": {},
     "output_type": "execute_result"
    }
   ],
   "source": [
    "df[' weather_ct'].describe()"
   ]
  },
  {
   "cell_type": "markdown",
   "metadata": {},
   "source": [
    "Number of flights canceled per month is also left skewed. And 50% of the months did not have any weather delays"
   ]
  },
  {
   "cell_type": "code",
   "execution_count": null,
   "metadata": {},
   "outputs": [],
   "source": []
  },
  {
   "cell_type": "markdown",
   "metadata": {},
   "source": [
    "### Secuirity cancelations"
   ]
  },
  {
   "cell_type": "code",
   "execution_count": 25,
   "metadata": {},
   "outputs": [
    {
     "data": {
      "image/png": "[encoded data removed]",
      "text/plain": [
       "<Figure size 432x288 with 1 Axes>"
      ]
     },
     "metadata": {},
     "output_type": "display_data"
    }
   ],
   "source": [
    "df['security_ct'].hist(bins=list(range(0,17,1)))\n",
    "plt.xlabel('Number of flights canceled per month ')\n",
    "plt.xticks(ticks=list(range(0,17,1)))\n",
    "plt.show()"
   ]
  },
  {
   "cell_type": "code",
   "execution_count": 26,
   "metadata": {},
   "outputs": [
    {
     "data": {
      "text/plain": [
       "count    63290.000000\n",
       "mean         0.118969\n",
       "std          0.535376\n",
       "min          0.000000\n",
       "25%          0.000000\n",
       "50%          0.000000\n",
       "75%          0.000000\n",
       "max         19.530000\n",
       "Name: security_ct, dtype: float64"
      ]
     },
     "execution_count": 26,
     "metadata": {},
     "output_type": "execute_result"
    }
   ],
   "source": [
    "df['security_ct'].describe()"
   ]
  },
  {
   "cell_type": "code",
   "execution_count": null,
   "metadata": {},
   "outputs": [],
   "source": []
  },
  {
   "cell_type": "markdown",
   "metadata": {},
   "source": [
    "### Carier cancelations"
   ]
  },
  {
   "cell_type": "code",
   "execution_count": 27,
   "metadata": {},
   "outputs": [
    {
     "data": {
      "text/plain": [
       "count    63290.000000\n",
       "mean        17.865492\n",
       "std         42.972512\n",
       "min          0.000000\n",
       "25%          2.000000\n",
       "50%          5.640000\n",
       "75%         14.710000\n",
       "max       1027.450000\n",
       "Name: carrier_ct, dtype: float64"
      ]
     },
     "execution_count": 27,
     "metadata": {},
     "output_type": "execute_result"
    }
   ],
   "source": [
    "df[\"carrier_ct\"].describe()"
   ]
  },
  {
   "cell_type": "code",
   "execution_count": 28,
   "metadata": {},
   "outputs": [
    {
     "data": {
      "image/png": "[encoded data removed]",
      "text/plain": [
       "<Figure size 432x288 with 1 Axes>"
      ]
     },
     "metadata": {},
     "output_type": "display_data"
    }
   ],
   "source": [
    "df[df[\"carrier_ct\"]<50][\"carrier_ct\"].hist(bins=list(range(0,50,1)))\n",
    "plt.title(\"Number of flight cancelation due to carrier\")\n",
    "plt.xlabel('Number of flights canceled per month ')\n",
    "plt.show()"
   ]
  },
  {
   "cell_type": "code",
   "execution_count": null,
   "metadata": {},
   "outputs": [],
   "source": []
  },
  {
   "cell_type": "markdown",
   "metadata": {},
   "source": [
    "### late aircraft cancelation"
   ]
  },
  {
   "cell_type": "code",
   "execution_count": 29,
   "metadata": {},
   "outputs": [
    {
     "data": {
      "text/plain": [
       "count    63290.000000\n",
       "mean        23.072897\n",
       "std         67.661504\n",
       "min          0.000000\n",
       "25%          1.332500\n",
       "50%          5.210000\n",
       "75%         15.320000\n",
       "max       1443.450000\n",
       "Name: late_aircraft_ct, dtype: float64"
      ]
     },
     "execution_count": 29,
     "metadata": {},
     "output_type": "execute_result"
    }
   ],
   "source": [
    "df[\"late_aircraft_ct\"].describe()"
   ]
  },
  {
   "cell_type": "code",
   "execution_count": 30,
   "metadata": {},
   "outputs": [
    {
     "data": {
      "image/png": "[encoded data removed]",
      "text/plain": [
       "<Figure size 432x288 with 1 Axes>"
      ]
     },
     "metadata": {},
     "output_type": "display_data"
    }
   ],
   "source": [
    "df[\"late_aircraft_ct\"].hist()\n",
    "plt.title(\"Number of flight cancelation due to late_aircraft \")\n",
    "plt.xlabel('Number of flights canceled per month ')\n",
    "plt.show()"
   ]
  },
  {
   "cell_type": "code",
   "execution_count": null,
   "metadata": {},
   "outputs": [],
   "source": []
  },
  {
   "cell_type": "markdown",
   "metadata": {},
   "source": [
    "### NAS cancelations"
   ]
  },
  {
   "cell_type": "code",
   "execution_count": 31,
   "metadata": {},
   "outputs": [
    {
     "data": {
      "text/plain": [
       "count    63290.000000\n",
       "mean        20.439737\n",
       "std         66.046918\n",
       "min          0.000000\n",
       "25%          1.080000\n",
       "50%          4.000000\n",
       "75%         11.770000\n",
       "max       1884.420000\n",
       "Name: nas_ct, dtype: float64"
      ]
     },
     "execution_count": 31,
     "metadata": {},
     "output_type": "execute_result"
    }
   ],
   "source": [
    "df[\"nas_ct\"].describe()"
   ]
  },
  {
   "cell_type": "code",
   "execution_count": 32,
   "metadata": {},
   "outputs": [
    {
     "data": {
      "image/png": "[encoded data removed]",
      "text/plain": [
       "<Figure size 432x288 with 1 Axes>"
      ]
     },
     "metadata": {},
     "output_type": "display_data"
    }
   ],
   "source": [
    "df[\"nas_ct\"].hist()\n",
    "plt.title(\"Number of flight cancelation due to NAS \")\n",
    "plt.xlabel('Number of flights canceled per month ')\n",
    "plt.show()"
   ]
  },
  {
   "cell_type": "code",
   "execution_count": null,
   "metadata": {},
   "outputs": [],
   "source": []
  },
  {
   "cell_type": "markdown",
   "metadata": {},
   "source": [
    "### Weather delays"
   ]
  },
  {
   "cell_type": "code",
   "execution_count": 33,
   "metadata": {},
   "outputs": [
    {
     "data": {
      "text/plain": [
       "count    63290.000000\n",
       "mean       220.699953\n",
       "std        804.392105\n",
       "min          0.000000\n",
       "25%          0.000000\n",
       "50%         16.000000\n",
       "75%        142.000000\n",
       "max      28294.000000\n",
       "Name: weather_delay, dtype: float64"
      ]
     },
     "execution_count": 33,
     "metadata": {},
     "output_type": "execute_result"
    }
   ],
   "source": [
    "df[\"weather_delay\"].describe()"
   ]
  },
  {
   "cell_type": "code",
   "execution_count": 34,
   "metadata": {},
   "outputs": [
    {
     "data": {
      "image/png": "[encoded data removed]",
      "text/plain": [
       "<Figure size 432x288 with 1 Axes>"
      ]
     },
     "metadata": {},
     "output_type": "display_data"
    }
   ],
   "source": [
    "df[\"weather_delay\"].hist()\n",
    "plt.title(\"Number of flight delays due to weather \")\n",
    "plt.xlabel('Number of flights canceled per month ')\n",
    "plt.show()"
   ]
  },
  {
   "cell_type": "code",
   "execution_count": null,
   "metadata": {},
   "outputs": [],
   "source": []
  },
  {
   "cell_type": "markdown",
   "metadata": {},
   "source": [
    "### security_delay"
   ]
  },
  {
   "cell_type": "code",
   "execution_count": 35,
   "metadata": {},
   "outputs": [
    {
     "data": {
      "text/plain": [
       "count    63290.000000\n",
       "mean         5.982051\n",
       "std         37.080653\n",
       "min          0.000000\n",
       "25%          0.000000\n",
       "50%          0.000000\n",
       "75%          0.000000\n",
       "max       3194.000000\n",
       "Name: security_delay, dtype: float64"
      ]
     },
     "execution_count": 35,
     "metadata": {},
     "output_type": "execute_result"
    }
   ],
   "source": [
    "df[\"security_delay\"].describe()"
   ]
  },
  {
   "cell_type": "code",
   "execution_count": 36,
   "metadata": {},
   "outputs": [
    {
     "data": {
      "image/png": "[encoded data removed]",
      "text/plain": [
       "<Figure size 432x288 with 1 Axes>"
      ]
     },
     "metadata": {},
     "output_type": "display_data"
    }
   ],
   "source": [
    "df[\"security_delay\"].hist()\n",
    "plt.title(\"Number of flight delays due to weather \")\n",
    "plt.xlabel('Number of flights canceled per month ')\n",
    "plt.show()"
   ]
  },
  {
   "cell_type": "code",
   "execution_count": null,
   "metadata": {},
   "outputs": [],
   "source": []
  },
  {
   "cell_type": "markdown",
   "metadata": {},
   "source": [
    "### NAS delays"
   ]
  },
  {
   "cell_type": "code",
   "execution_count": 37,
   "metadata": {},
   "outputs": [
    {
     "data": {
      "text/plain": [
       "count     63290.000000\n",
       "mean       1022.182778\n",
       "std        3962.479431\n",
       "min           0.000000\n",
       "25%          38.000000\n",
       "50%         151.000000\n",
       "75%         484.000000\n",
       "max      112018.000000\n",
       "Name: nas_delay, dtype: float64"
      ]
     },
     "execution_count": 37,
     "metadata": {},
     "output_type": "execute_result"
    }
   ],
   "source": [
    "df[\"nas_delay\"].describe()"
   ]
  },
  {
   "cell_type": "code",
   "execution_count": 38,
   "metadata": {},
   "outputs": [
    {
     "data": {
      "image/png": "[encoded data removed]",
      "text/plain": [
       "<Figure size 432x288 with 1 Axes>"
      ]
     },
     "metadata": {},
     "output_type": "display_data"
    }
   ],
   "source": [
    "df[\"nas_delay\"].hist()\n",
    "plt.title(\"Number of flight delays due to weather \")\n",
    "plt.xlabel('Number of flights canceled per month ')\n",
    "plt.show()"
   ]
  },
  {
   "cell_type": "code",
   "execution_count": null,
   "metadata": {},
   "outputs": [],
   "source": []
  },
  {
   "cell_type": "markdown",
   "metadata": {},
   "source": [
    "# Multi-variate EDA"
   ]
  },
  {
   "cell_type": "code",
   "execution_count": null,
   "metadata": {},
   "outputs": [],
   "source": []
  },
  {
   "cell_type": "markdown",
   "metadata": {},
   "source": [
    "### Cancelation reasons"
   ]
  },
  {
   "cell_type": "code",
   "execution_count": 39,
   "metadata": {},
   "outputs": [
    {
     "data": {
      "image/png": "[encoded data removed]",
      "text/plain": [
       "<Figure size 432x288 with 1 Axes>"
      ]
     },
     "metadata": {},
     "output_type": "display_data"
    }
   ],
   "source": [
    "wethear_ct_sum= df[' weather_ct'].sum()\n",
    "nas_ct_sum= df['nas_ct'].sum()\n",
    "carrier_ct_sum= df['carrier_ct'].sum()\n",
    "secuirity_ct_sum =df['security_ct'].sum()\n",
    "late_aircraft_sum = df['late_aircraft_ct'].sum()\n",
    "\n",
    "\n",
    "X = ['weather cancelations','nas cancelations', 'carrier cancelations', 'secuirity cancelations','late air craft']\n",
    "Y = [wethear_ct_sum,nas_ct_sum,carrier_ct_sum, secuirity_ct_sum,late_aircraft_sum]\n",
    "plt.bar(X,Y)\n",
    "plt.ylabel('Number of cancelations')\n",
    "plt.title('Number of cancelations per reason')\n",
    "plt.xlabel('cancelation reson')\n",
    "plt.xticks(rotation=90)\n",
    "plt.show()"
   ]
  },
  {
   "cell_type": "markdown",
   "metadata": {},
   "source": [
    "I expected that the number one cancelation reason was due to weather conditions, but this is not the case. Late aircraft cancelation were the number one reason for cancelation and NAS cancelation were the second."
   ]
  },
  {
   "cell_type": "code",
   "execution_count": null,
   "metadata": {},
   "outputs": [],
   "source": []
  },
  {
   "cell_type": "code",
   "execution_count": 41,
   "metadata": {},
   "outputs": [
    {
     "data": {
      "image/png": "[encoded data removed]",
      "text/plain": [
       "<Figure size 432x288 with 1 Axes>"
      ]
     },
     "metadata": {},
     "output_type": "display_data"
    }
   ],
   "source": [
    "wethear_ct_sum= df[' weather_ct'].sum()\n",
    "nas_ct_sum= df['nas_ct'].sum()\n",
    "carrier_ct_sum= df['carrier_ct'].sum()\n",
    "secuirity_ct_sum =df['security_ct'].sum()\n",
    "late_aircraft_sum = df['late_aircraft_ct'].sum()\n",
    "\n",
    "num_of_overall_cancelation = wethear_ct_sum+nas_ct_sum+carrier_ct_sum+secuirity_ct_sum+late_aircraft_sum\n",
    "\n",
    "wethear_ct_sum=(wethear_ct_sum/num_of_overall_cancelation)*100\n",
    "nas_ct_sum=(nas_ct_sum/num_of_overall_cancelation)*100\n",
    "carrier_ct_sum=(carrier_ct_sum/num_of_overall_cancelation)*100\n",
    "secuirity_ct_sum=(secuirity_ct_sum/num_of_overall_cancelation)*100\n",
    "late_aircraft_sum=(late_aircraft_sum/num_of_overall_cancelation)*100\n",
    "\n",
    "\n",
    "X = ['weather cancelations','nas cancelations', 'carrier cancelations', 'secuirity cancelations','late air craft']\n",
    "Y = [wethear_ct_sum,nas_ct_sum,carrier_ct_sum, secuirity_ct_sum,late_aircraft_sum]\n",
    "plt.pie(Y, labels=X , autopct='%1.1f%%')\n",
    "plt.title('Contribution of each reason of cancelation to overall cancelation')\n",
    "plt.show()"
   ]
  },
  {
   "cell_type": "markdown",
   "metadata": {},
   "source": [
    "We can see here that weather cancelation contribute to only 3.3% of the overall number of cancelations"
   ]
  },
  {
   "cell_type": "code",
   "execution_count": null,
   "metadata": {},
   "outputs": [],
   "source": []
  },
  {
   "cell_type": "markdown",
   "metadata": {},
   "source": [
    "### Delay reasons"
   ]
  },
  {
   "cell_type": "code",
   "execution_count": null,
   "metadata": {},
   "outputs": [],
   "source": []
  },
  {
   "cell_type": "code",
   "execution_count": 42,
   "metadata": {},
   "outputs": [
    {
     "data": {
      "image/png": "[encoded data removed]",
      "text/plain": [
       "<Figure size 432x288 with 1 Axes>"
      ]
     },
     "metadata": {},
     "output_type": "display_data"
    }
   ],
   "source": [
    "wethear_ct_sum= df['weather_delay'].sum()\n",
    "nas_ct_sum= df['nas_delay'].sum()\n",
    "carrier_ct_sum= df[' carrier_delay'].sum()\n",
    "carrier_ct_sum =df['security_delay'].sum()\n",
    "late_aircraft_sum = df['late_aircraft_delay'].sum()\n",
    "\n",
    "\n",
    "X = ['weather delay','nas delay', 'carrier delay', 'secuirity delay','late air craft']\n",
    "Y = [wethear_ct_sum,nas_ct_sum,carrier_ct_sum, carrier_ct_sum,late_aircraft_sum]\n",
    "plt.bar(X,Y)\n",
    "plt.ylabel('Number of Delay')\n",
    "plt.title('Number of Delay per reason')\n",
    "plt.xlabel('Delay reson')\n",
    "plt.xticks(rotation=90)\n",
    "plt.show()"
   ]
  },
  {
   "cell_type": "code",
   "execution_count": null,
   "metadata": {},
   "outputs": [],
   "source": []
  },
  {
   "cell_type": "code",
   "execution_count": 44,
   "metadata": {},
   "outputs": [
    {
     "data": {
      "image/png": "[encoded data removed]",
      "text/plain": [
       "<Figure size 432x288 with 1 Axes>"
      ]
     },
     "metadata": {},
     "output_type": "display_data"
    }
   ],
   "source": [
    "wethear_ct_sum= df['weather_delay'].sum()\n",
    "nas_ct_sum= df['nas_delay'].sum()\n",
    "carrier_ct_sum= df[' carrier_delay'].sum()\n",
    "carrier_ct_sum =df['security_delay'].sum()\n",
    "late_aircraft_sum = df['late_aircraft_delay'].sum()\n",
    "\n",
    "\n",
    "num_of_overall_cancelation = wethear_ct_sum+nas_ct_sum+carrier_ct_sum+secuirity_ct_sum+late_aircraft_sum\n",
    "\n",
    "wethear_ct_sum=(wethear_ct_sum/num_of_overall_cancelation)*100\n",
    "nas_ct_sum=(nas_ct_sum/num_of_overall_cancelation)*100\n",
    "carrier_ct_sum=(carrier_ct_sum/num_of_overall_cancelation)*100\n",
    "secuirity_ct_sum=(secuirity_ct_sum/num_of_overall_cancelation)*100\n",
    "late_aircraft_sum=(late_aircraft_sum/num_of_overall_cancelation)*100\n",
    "\n",
    "\n",
    "X = ['weather delays','carrier delays' , 'nas delays', 'secuirity delays','late air craft']\n",
    "Y = [wethear_ct_sum,carrier_ct_sum, nas_ct_sum, secuirity_ct_sum,late_aircraft_sum]\n",
    "plt.pie(Y, labels=X , autopct='%1.2f%%')\n",
    "plt.title('Contribution of each Delay reason to overall delays')\n",
    "plt.show()"
   ]
  },
  {
   "cell_type": "markdown",
   "metadata": {},
   "source": [
    "Here we can see also that the weather is not the main factor for delays which is also not what I expected. Late air craft was the main reason for delays and then the nas delays. Only 7.64% of delays are caused by weather. "
   ]
  },
  {
   "cell_type": "code",
   "execution_count": null,
   "metadata": {},
   "outputs": [],
   "source": []
  },
  {
   "cell_type": "markdown",
   "metadata": {},
   "source": [
    "### Weather cancelations Monthly trends"
   ]
  },
  {
   "cell_type": "code",
   "execution_count": 45,
   "metadata": {},
   "outputs": [
    {
     "data": {
      "text/html": [
       "<div>\n",
       "<style scoped>\n",
       "    .dataframe tbody tr th:only-of-type {\n",
       "        vertical-align: middle;\n",
       "    }\n",
       "\n",
       "    .dataframe tbody tr th {\n",
       "        vertical-align: top;\n",
       "    }\n",
       "\n",
       "    .dataframe thead th {\n",
       "        text-align: right;\n",
       "    }\n",
       "</style>\n",
       "<table border=\"1\" class=\"dataframe\">\n",
       "  <thead>\n",
       "    <tr style=\"text-align: right;\">\n",
       "      <th></th>\n",
       "      <th>year</th>\n",
       "      <th>month</th>\n",
       "      <th>carrier</th>\n",
       "      <th>carrier_name</th>\n",
       "      <th>airport</th>\n",
       "      <th>airport_name</th>\n",
       "      <th>arr_flights</th>\n",
       "      <th>arr_del15</th>\n",
       "      <th>carrier_ct</th>\n",
       "      <th>weather_ct</th>\n",
       "      <th>...</th>\n",
       "      <th>security_ct</th>\n",
       "      <th>late_aircraft_ct</th>\n",
       "      <th>arr_cancelled</th>\n",
       "      <th>arr_diverted</th>\n",
       "      <th>arr_delay</th>\n",
       "      <th>carrier_delay</th>\n",
       "      <th>weather_delay</th>\n",
       "      <th>nas_delay</th>\n",
       "      <th>security_delay</th>\n",
       "      <th>late_aircraft_delay</th>\n",
       "    </tr>\n",
       "  </thead>\n",
       "  <tbody>\n",
       "    <tr>\n",
       "      <th>0</th>\n",
       "      <td>2017</td>\n",
       "      <td>1</td>\n",
       "      <td>AA</td>\n",
       "      <td>American Airlines Inc.</td>\n",
       "      <td>ABQ</td>\n",
       "      <td>Albuquerque, NM: Albuquerque International Sun...</td>\n",
       "      <td>125.0</td>\n",
       "      <td>31.0</td>\n",
       "      <td>16.26</td>\n",
       "      <td>1.00</td>\n",
       "      <td>...</td>\n",
       "      <td>0.00</td>\n",
       "      <td>10.36</td>\n",
       "      <td>1.0</td>\n",
       "      <td>0.0</td>\n",
       "      <td>1378.0</td>\n",
       "      <td>758.0</td>\n",
       "      <td>21.0</td>\n",
       "      <td>95.0</td>\n",
       "      <td>0.0</td>\n",
       "      <td>504.0</td>\n",
       "    </tr>\n",
       "    <tr>\n",
       "      <th>1</th>\n",
       "      <td>2017</td>\n",
       "      <td>1</td>\n",
       "      <td>AA</td>\n",
       "      <td>American Airlines Inc.</td>\n",
       "      <td>ALB</td>\n",
       "      <td>Albany, NY: Albany International</td>\n",
       "      <td>88.0</td>\n",
       "      <td>10.0</td>\n",
       "      <td>4.52</td>\n",
       "      <td>0.00</td>\n",
       "      <td>...</td>\n",
       "      <td>0.00</td>\n",
       "      <td>4.41</td>\n",
       "      <td>1.0</td>\n",
       "      <td>0.0</td>\n",
       "      <td>402.0</td>\n",
       "      <td>171.0</td>\n",
       "      <td>0.0</td>\n",
       "      <td>17.0</td>\n",
       "      <td>0.0</td>\n",
       "      <td>214.0</td>\n",
       "    </tr>\n",
       "    <tr>\n",
       "      <th>2</th>\n",
       "      <td>2017</td>\n",
       "      <td>1</td>\n",
       "      <td>AA</td>\n",
       "      <td>American Airlines Inc.</td>\n",
       "      <td>AMA</td>\n",
       "      <td>Amarillo, TX: Rick Husband Amarillo International</td>\n",
       "      <td>24.0</td>\n",
       "      <td>6.0</td>\n",
       "      <td>1.65</td>\n",
       "      <td>0.30</td>\n",
       "      <td>...</td>\n",
       "      <td>0.00</td>\n",
       "      <td>2.79</td>\n",
       "      <td>1.0</td>\n",
       "      <td>0.0</td>\n",
       "      <td>419.0</td>\n",
       "      <td>59.0</td>\n",
       "      <td>64.0</td>\n",
       "      <td>166.0</td>\n",
       "      <td>0.0</td>\n",
       "      <td>130.0</td>\n",
       "    </tr>\n",
       "    <tr>\n",
       "      <th>3</th>\n",
       "      <td>2017</td>\n",
       "      <td>1</td>\n",
       "      <td>AA</td>\n",
       "      <td>American Airlines Inc.</td>\n",
       "      <td>ATL</td>\n",
       "      <td>Atlanta, GA: Hartsfield-Jackson Atlanta Intern...</td>\n",
       "      <td>1112.0</td>\n",
       "      <td>204.0</td>\n",
       "      <td>72.58</td>\n",
       "      <td>2.34</td>\n",
       "      <td>...</td>\n",
       "      <td>1.98</td>\n",
       "      <td>65.02</td>\n",
       "      <td>24.0</td>\n",
       "      <td>6.0</td>\n",
       "      <td>11968.0</td>\n",
       "      <td>4237.0</td>\n",
       "      <td>108.0</td>\n",
       "      <td>2693.0</td>\n",
       "      <td>159.0</td>\n",
       "      <td>4771.0</td>\n",
       "    </tr>\n",
       "    <tr>\n",
       "      <th>4</th>\n",
       "      <td>2017</td>\n",
       "      <td>1</td>\n",
       "      <td>AA</td>\n",
       "      <td>American Airlines Inc.</td>\n",
       "      <td>AUS</td>\n",
       "      <td>Austin, TX: Austin - Bergstrom International</td>\n",
       "      <td>729.0</td>\n",
       "      <td>126.0</td>\n",
       "      <td>47.75</td>\n",
       "      <td>2.86</td>\n",
       "      <td>...</td>\n",
       "      <td>0.99</td>\n",
       "      <td>38.06</td>\n",
       "      <td>2.0</td>\n",
       "      <td>0.0</td>\n",
       "      <td>6816.0</td>\n",
       "      <td>3096.0</td>\n",
       "      <td>103.0</td>\n",
       "      <td>1419.0</td>\n",
       "      <td>110.0</td>\n",
       "      <td>2088.0</td>\n",
       "    </tr>\n",
       "  </tbody>\n",
       "</table>\n",
       "<p>5 rows × 21 columns</p>\n",
       "</div>"
      ],
      "text/plain": [
       "   year   month carrier            carrier_name airport  \\\n",
       "0  2017       1      AA  American Airlines Inc.     ABQ   \n",
       "1  2017       1      AA  American Airlines Inc.     ALB   \n",
       "2  2017       1      AA  American Airlines Inc.     AMA   \n",
       "3  2017       1      AA  American Airlines Inc.     ATL   \n",
       "4  2017       1      AA  American Airlines Inc.     AUS   \n",
       "\n",
       "                                        airport_name  arr_flights  arr_del15  \\\n",
       "0  Albuquerque, NM: Albuquerque International Sun...        125.0       31.0   \n",
       "1                   Albany, NY: Albany International         88.0       10.0   \n",
       "2  Amarillo, TX: Rick Husband Amarillo International         24.0        6.0   \n",
       "3  Atlanta, GA: Hartsfield-Jackson Atlanta Intern...       1112.0      204.0   \n",
       "4       Austin, TX: Austin - Bergstrom International        729.0      126.0   \n",
       "\n",
       "   carrier_ct   weather_ct  ...  security_ct  late_aircraft_ct  arr_cancelled  \\\n",
       "0       16.26         1.00  ...         0.00             10.36            1.0   \n",
       "1        4.52         0.00  ...         0.00              4.41            1.0   \n",
       "2        1.65         0.30  ...         0.00              2.79            1.0   \n",
       "3       72.58         2.34  ...         1.98             65.02           24.0   \n",
       "4       47.75         2.86  ...         0.99             38.06            2.0   \n",
       "\n",
       "   arr_diverted   arr_delay   carrier_delay  weather_delay  nas_delay  \\\n",
       "0           0.0      1378.0           758.0           21.0       95.0   \n",
       "1           0.0       402.0           171.0            0.0       17.0   \n",
       "2           0.0       419.0            59.0           64.0      166.0   \n",
       "3           6.0     11968.0          4237.0          108.0     2693.0   \n",
       "4           0.0      6816.0          3096.0          103.0     1419.0   \n",
       "\n",
       "   security_delay  late_aircraft_delay  \n",
       "0             0.0                504.0  \n",
       "1             0.0                214.0  \n",
       "2             0.0                130.0  \n",
       "3           159.0               4771.0  \n",
       "4           110.0               2088.0  \n",
       "\n",
       "[5 rows x 21 columns]"
      ]
     },
     "execution_count": 45,
     "metadata": {},
     "output_type": "execute_result"
    }
   ],
   "source": [
    "df.head()"
   ]
  },
  {
   "cell_type": "code",
   "execution_count": 46,
   "metadata": {},
   "outputs": [],
   "source": [
    "df_weather = df[[' month', 'weather_delay']].groupby(' month').sum().reset_index()"
   ]
  },
  {
   "cell_type": "code",
   "execution_count": 47,
   "metadata": {},
   "outputs": [
    {
     "data": {
      "text/html": [
       "<div>\n",
       "<style scoped>\n",
       "    .dataframe tbody tr th:only-of-type {\n",
       "        vertical-align: middle;\n",
       "    }\n",
       "\n",
       "    .dataframe tbody tr th {\n",
       "        vertical-align: top;\n",
       "    }\n",
       "\n",
       "    .dataframe thead th {\n",
       "        text-align: right;\n",
       "    }\n",
       "</style>\n",
       "<table border=\"1\" class=\"dataframe\">\n",
       "  <thead>\n",
       "    <tr style=\"text-align: right;\">\n",
       "      <th></th>\n",
       "      <th>month</th>\n",
       "      <th>weather_delay</th>\n",
       "    </tr>\n",
       "  </thead>\n",
       "  <tbody>\n",
       "    <tr>\n",
       "      <th>0</th>\n",
       "      <td>1</td>\n",
       "      <td>1638104.0</td>\n",
       "    </tr>\n",
       "    <tr>\n",
       "      <th>1</th>\n",
       "      <td>2</td>\n",
       "      <td>1434738.0</td>\n",
       "    </tr>\n",
       "    <tr>\n",
       "      <th>2</th>\n",
       "      <td>3</td>\n",
       "      <td>805294.0</td>\n",
       "    </tr>\n",
       "    <tr>\n",
       "      <th>3</th>\n",
       "      <td>4</td>\n",
       "      <td>1092693.0</td>\n",
       "    </tr>\n",
       "    <tr>\n",
       "      <th>4</th>\n",
       "      <td>5</td>\n",
       "      <td>1237659.0</td>\n",
       "    </tr>\n",
       "    <tr>\n",
       "      <th>5</th>\n",
       "      <td>6</td>\n",
       "      <td>1597358.0</td>\n",
       "    </tr>\n",
       "    <tr>\n",
       "      <th>6</th>\n",
       "      <td>7</td>\n",
       "      <td>1684452.0</td>\n",
       "    </tr>\n",
       "    <tr>\n",
       "      <th>7</th>\n",
       "      <td>8</td>\n",
       "      <td>1381053.0</td>\n",
       "    </tr>\n",
       "    <tr>\n",
       "      <th>8</th>\n",
       "      <td>9</td>\n",
       "      <td>760777.0</td>\n",
       "    </tr>\n",
       "    <tr>\n",
       "      <th>9</th>\n",
       "      <td>10</td>\n",
       "      <td>627979.0</td>\n",
       "    </tr>\n",
       "    <tr>\n",
       "      <th>10</th>\n",
       "      <td>11</td>\n",
       "      <td>662399.0</td>\n",
       "    </tr>\n",
       "    <tr>\n",
       "      <th>11</th>\n",
       "      <td>12</td>\n",
       "      <td>1045594.0</td>\n",
       "    </tr>\n",
       "  </tbody>\n",
       "</table>\n",
       "</div>"
      ],
      "text/plain": [
       "     month  weather_delay\n",
       "0        1      1638104.0\n",
       "1        2      1434738.0\n",
       "2        3       805294.0\n",
       "3        4      1092693.0\n",
       "4        5      1237659.0\n",
       "5        6      1597358.0\n",
       "6        7      1684452.0\n",
       "7        8      1381053.0\n",
       "8        9       760777.0\n",
       "9       10       627979.0\n",
       "10      11       662399.0\n",
       "11      12      1045594.0"
      ]
     },
     "execution_count": 47,
     "metadata": {},
     "output_type": "execute_result"
    }
   ],
   "source": [
    "df_weather"
   ]
  },
  {
   "cell_type": "code",
   "execution_count": 51,
   "metadata": {},
   "outputs": [
    {
     "data": {
      "image/png": "[encoded data removed]",
      "text/plain": [
       "<Figure size 432x288 with 1 Axes>"
      ]
     },
     "metadata": {},
     "output_type": "display_data"
    }
   ],
   "source": [
    "df_weather.plot(x=' month', y='weather_delay' )\n",
    "plt.xticks(list(range(0,13,1)))\n",
    "plt.ylabel(\"Number of weather delays\")\n",
    "plt.title(\"Number of weather delays per month\")\n",
    "plt.show()"
   ]
  },
  {
   "cell_type": "markdown",
   "metadata": {},
   "source": [
    "This graph shows a very intesting insight. It shows that the number of flight delays does not only rise in the winter when the weather is both rainy and snowy, but also in summer when the weather hot thus affecting the aicraft's equipment. "
   ]
  },
  {
   "cell_type": "code",
   "execution_count": null,
   "metadata": {},
   "outputs": [],
   "source": []
  },
  {
   "cell_type": "markdown",
   "metadata": {},
   "source": [
    "# Which city has the highest number of flight delays"
   ]
  },
  {
   "cell_type": "code",
   "execution_count": 13,
   "metadata": {},
   "outputs": [
    {
     "data": {
      "image/png": "[encoded data removed]",
      "text/plain": [
       "<Figure size 432x288 with 1 Axes>"
      ]
     },
     "metadata": {},
     "output_type": "display_data"
    }
   ],
   "source": [
    "df['city'] = df['airport_name'].str.split(',').str[-1].str.split(':').str[0]\n",
    "city_delays = df[['city','weather_delay']].groupby('city').sum().reset_index().sort_values('weather_delay',ascending=False)\n",
    "\n",
    "city_delays = city_delays.iloc[:20]\n",
    "\n",
    "city_delays.plot.bar(x='city',y='weather_delay')\n",
    "plt.ylabel(\"number of flight delays\")\n",
    "plt.title('Number of flight delays per city for the highest 20 cities')\n",
    "plt.show()"
   ]
  },
  {
   "cell_type": "code",
   "execution_count": null,
   "metadata": {},
   "outputs": [],
   "source": []
  }
 ],
 "metadata": {
  "kernelspec": {
   "display_name": "Python 3",
   "language": "python",
   "name": "python3"
  },
  "language_info": {
   "codemirror_mode": {
    "name": "ipython",
    "version": 3
   },
   "file_extension": ".py",
   "mimetype": "text/x-python",
   "name": "python",
   "nbconvert_exporter": "python",
   "pygments_lexer": "ipython3",
   "version": "3.5.5"
  }
 },
 "nbformat": 4,
 "nbformat_minor": 2
}
